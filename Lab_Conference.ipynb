{
 "cells": [
  {
   "cell_type": "code",
   "execution_count": 1,
   "id": "663839fe",
   "metadata": {},
   "outputs": [
    {
     "name": "stdout",
     "output_type": "stream",
     "text": [
      "import done ! \n"
     ]
    }
   ],
   "source": [
    "# data manipulation\n",
    "import pandas as pd\n",
    "import numpy as np\n",
    "from operator import itemgetter \n",
    "\n",
    "# visualiation\n",
    "import seaborn as sb\n",
    "import matplotlib.pyplot as plt\n",
    "#%matplotlib inline\n",
    "\n",
    "# model training\n",
    "from sklearn.model_selection import train_test_split\n",
    "from sklearn.model_selection import GridSearchCV\n",
    "from sklearn.model_selection import RandomizedSearchCV\n",
    "\n",
    "# classifiers\n",
    "from sklearn.naive_bayes import GaussianNB # naive bayes\n",
    "from sklearn.neighbors import KNeighborsClassifier # KNN\n",
    "from sklearn.svm import SVC # SVM\n",
    "from sklearn.linear_model import LogisticRegression # logistic regression\n",
    "from sklearn.tree import DecisionTreeClassifier # decision Tree\n",
    "from sklearn.ensemble import BaggingClassifier \n",
    "from sklearn.ensemble import AdaBoostClassifier\n",
    "from sklearn.ensemble import RandomForestClassifier\n",
    "\n",
    "# metrics\n",
    "from sklearn.metrics import f1_score # F1-score\n",
    "from sklearn.metrics import confusion_matrix # Confusion matrix\n",
    "\n",
    "# ignore warnings\n",
    "import warnings\n",
    "warnings.filterwarnings('ignore')\n",
    "print(\"import done ! \")"
   ]
  },
  {
   "cell_type": "code",
   "execution_count": 37,
   "id": "afb3464e",
   "metadata": {},
   "outputs": [
    {
     "data": {
      "text/html": [
       "<div>\n",
       "<style scoped>\n",
       "    .dataframe tbody tr th:only-of-type {\n",
       "        vertical-align: middle;\n",
       "    }\n",
       "\n",
       "    .dataframe tbody tr th {\n",
       "        vertical-align: top;\n",
       "    }\n",
       "\n",
       "    .dataframe thead th {\n",
       "        text-align: right;\n",
       "    }\n",
       "</style>\n",
       "<table border=\"1\" class=\"dataframe\">\n",
       "  <thead>\n",
       "    <tr style=\"text-align: right;\">\n",
       "      <th></th>\n",
       "      <th>Total_time(s)</th>\n",
       "      <th>Average_bitrate(Mbps)</th>\n",
       "      <th>label</th>\n",
       "    </tr>\n",
       "  </thead>\n",
       "  <tbody>\n",
       "    <tr>\n",
       "      <th>0</th>\n",
       "      <td>0.996035</td>\n",
       "      <td>0.393560</td>\n",
       "      <td>Mouse</td>\n",
       "    </tr>\n",
       "    <tr>\n",
       "      <th>1</th>\n",
       "      <td>19.990688</td>\n",
       "      <td>0.158074</td>\n",
       "      <td>Mouse</td>\n",
       "    </tr>\n",
       "    <tr>\n",
       "      <th>2</th>\n",
       "      <td>39.996039</td>\n",
       "      <td>0.079408</td>\n",
       "      <td>Elephant</td>\n",
       "    </tr>\n",
       "    <tr>\n",
       "      <th>3</th>\n",
       "      <td>19.991628</td>\n",
       "      <td>0.193281</td>\n",
       "      <td>Mouse</td>\n",
       "    </tr>\n",
       "    <tr>\n",
       "      <th>4</th>\n",
       "      <td>29.972882</td>\n",
       "      <td>0.158810</td>\n",
       "      <td>Mouse</td>\n",
       "    </tr>\n",
       "    <tr>\n",
       "      <th>...</th>\n",
       "      <td>...</td>\n",
       "      <td>...</td>\n",
       "      <td>...</td>\n",
       "    </tr>\n",
       "    <tr>\n",
       "      <th>10930</th>\n",
       "      <td>3.986399</td>\n",
       "      <td>0.387317</td>\n",
       "      <td>Mouse</td>\n",
       "    </tr>\n",
       "    <tr>\n",
       "      <th>10931</th>\n",
       "      <td>0.997604</td>\n",
       "      <td>5.429008</td>\n",
       "      <td>Elephant</td>\n",
       "    </tr>\n",
       "    <tr>\n",
       "      <th>10932</th>\n",
       "      <td>29.999763</td>\n",
       "      <td>11.764093</td>\n",
       "      <td>Elephant</td>\n",
       "    </tr>\n",
       "    <tr>\n",
       "      <th>10933</th>\n",
       "      <td>3.998841</td>\n",
       "      <td>5.517599</td>\n",
       "      <td>Elephant</td>\n",
       "    </tr>\n",
       "    <tr>\n",
       "      <th>10934</th>\n",
       "      <td>0.988570</td>\n",
       "      <td>0.198266</td>\n",
       "      <td>Mouse</td>\n",
       "    </tr>\n",
       "  </tbody>\n",
       "</table>\n",
       "<p>10935 rows × 3 columns</p>\n",
       "</div>"
      ],
      "text/plain": [
       "       Total_time(s)  Average_bitrate(Mbps)     label\n",
       "0           0.996035               0.393560     Mouse\n",
       "1          19.990688               0.158074     Mouse\n",
       "2          39.996039               0.079408  Elephant\n",
       "3          19.991628               0.193281     Mouse\n",
       "4          29.972882               0.158810     Mouse\n",
       "...              ...                    ...       ...\n",
       "10930       3.986399               0.387317     Mouse\n",
       "10931       0.997604               5.429008  Elephant\n",
       "10932      29.999763              11.764093  Elephant\n",
       "10933       3.998841               5.517599  Elephant\n",
       "10934       0.988570               0.198266     Mouse\n",
       "\n",
       "[10935 rows x 3 columns]"
      ]
     },
     "execution_count": 37,
     "metadata": {},
     "output_type": "execute_result"
    }
   ],
   "source": [
    "pima = pd.read_csv(\"data_finale.csv\")\n",
    "pima = pima[[\"Total_time(s)\", \"Average_bitrate(Mbps)\", \"label\"]]\n",
    "pima"
   ]
  },
  {
   "cell_type": "code",
   "execution_count": 38,
   "id": "6725085d",
   "metadata": {},
   "outputs": [
    {
     "data": {
      "text/plain": [
       "Total_time(s)            float64\n",
       "Average_bitrate(Mbps)    float64\n",
       "label                     object\n",
       "dtype: object"
      ]
     },
     "execution_count": 38,
     "metadata": {},
     "output_type": "execute_result"
    }
   ],
   "source": [
    "pima.dtypes"
   ]
  },
  {
   "cell_type": "code",
   "execution_count": 39,
   "id": "f259e6ac",
   "metadata": {},
   "outputs": [
    {
     "data": {
      "text/plain": [
       "Total_time(s)            0\n",
       "Average_bitrate(Mbps)    0\n",
       "label                    0\n",
       "dtype: int64"
      ]
     },
     "execution_count": 39,
     "metadata": {},
     "output_type": "execute_result"
    }
   ],
   "source": [
    "pima.isnull().sum()"
   ]
  },
  {
   "cell_type": "code",
   "execution_count": 40,
   "id": "9367b62f",
   "metadata": {},
   "outputs": [
    {
     "name": "stdout",
     "output_type": "stream",
     "text": [
      "[5120, 5815]\n"
     ]
    },
    {
     "data": {
      "text/plain": [
       "<module 'matplotlib.pyplot' from '/usr/local/lib/python3.8/dist-packages/matplotlib/pyplot.py'>"
      ]
     },
     "execution_count": 40,
     "metadata": {},
     "output_type": "execute_result"
    },
    {
     "data": {
      "image/png": "[encoded data removed]",
      "text/plain": [
       "<Figure size 432x288 with 1 Axes>"
      ]
     },
     "metadata": {
      "needs_background": "light"
     },
     "output_type": "display_data"
    }
   ],
   "source": [
    "counts = [(pima['label'] == \"Elephant\").sum(), (pima['label'] == \"Mouse\").sum()]\n",
    "print(counts)\n",
    "\n",
    "sb.barplot(x=['Elephant','Mouse'], y=counts)\n",
    "\n",
    "plt"
   ]
  },
  {
   "cell_type": "code",
   "execution_count": 41,
   "id": "0be7f0bb",
   "metadata": {},
   "outputs": [
    {
     "data": {
      "text/plain": [
       "<module 'matplotlib.pyplot' from '/usr/local/lib/python3.8/dist-packages/matplotlib/pyplot.py'>"
      ]
     },
     "execution_count": 41,
     "metadata": {},
     "output_type": "execute_result"
    },
    {
     "data": {
      "image/png": "[encoded data removed]",
      "text/plain": [
       "<Figure size 432x288 with 1 Axes>"
      ]
     },
     "metadata": {
      "needs_background": "light"
     },
     "output_type": "display_data"
    }
   ],
   "source": [
    "objects = ('Elephant', 'Mouse')\n",
    "y_pos = np.arange(len(objects))\n",
    "counts = [(pima['label'] == \"Elephant\").sum(), (pima['label'] == \"Mouse\").sum()]\n",
    "\n",
    "plt.barh(y_pos, counts, align='center')\n",
    "plt.yticks(y_pos, objects)\n",
    "plt.xlabel('Count')\n",
    "plt.title('Flow Examine')\n",
    "\n",
    "plt"
   ]
  },
  {
   "cell_type": "code",
   "execution_count": 49,
   "id": "eb606c90",
   "metadata": {},
   "outputs": [
    {
     "data": {
      "text/html": [
       "<div>\n",
       "<style scoped>\n",
       "    .dataframe tbody tr th:only-of-type {\n",
       "        vertical-align: middle;\n",
       "    }\n",
       "\n",
       "    .dataframe tbody tr th {\n",
       "        vertical-align: top;\n",
       "    }\n",
       "\n",
       "    .dataframe thead th {\n",
       "        text-align: right;\n",
       "    }\n",
       "</style>\n",
       "<table border=\"1\" class=\"dataframe\">\n",
       "  <thead>\n",
       "    <tr style=\"text-align: right;\">\n",
       "      <th></th>\n",
       "      <th>Total_time(s)</th>\n",
       "      <th>Average_bitrate(Mbps)</th>\n",
       "      <th>label</th>\n",
       "    </tr>\n",
       "  </thead>\n",
       "  <tbody>\n",
       "    <tr>\n",
       "      <th>0</th>\n",
       "      <td>0.996035</td>\n",
       "      <td>0.393560</td>\n",
       "      <td>Mouse</td>\n",
       "    </tr>\n",
       "    <tr>\n",
       "      <th>1</th>\n",
       "      <td>19.990688</td>\n",
       "      <td>0.158074</td>\n",
       "      <td>Mouse</td>\n",
       "    </tr>\n",
       "    <tr>\n",
       "      <th>2</th>\n",
       "      <td>39.996039</td>\n",
       "      <td>0.079408</td>\n",
       "      <td>Elephant</td>\n",
       "    </tr>\n",
       "    <tr>\n",
       "      <th>3</th>\n",
       "      <td>19.991628</td>\n",
       "      <td>0.193281</td>\n",
       "      <td>Mouse</td>\n",
       "    </tr>\n",
       "    <tr>\n",
       "      <th>4</th>\n",
       "      <td>29.972882</td>\n",
       "      <td>0.158810</td>\n",
       "      <td>Mouse</td>\n",
       "    </tr>\n",
       "  </tbody>\n",
       "</table>\n",
       "</div>"
      ],
      "text/plain": [
       "   Total_time(s)  Average_bitrate(Mbps)     label\n",
       "0       0.996035               0.393560     Mouse\n",
       "1      19.990688               0.158074     Mouse\n",
       "2      39.996039               0.079408  Elephant\n",
       "3      19.991628               0.193281     Mouse\n",
       "4      29.972882               0.158810     Mouse"
      ]
     },
     "execution_count": 49,
     "metadata": {},
     "output_type": "execute_result"
    }
   ],
   "source": [
    "pima1 = pima[:]\n",
    "\n",
    "pima1[\"Total_time(s)\"] = pd.cut(pima1['Total_time(s)'].astype(float), 2 ,labels=[0,1])\n",
    "pima1[\"Average_bitrate(Mbps)\"]= pd.cut(pima1['Average_bitrate(Mbps)'].astype(float), 2 , labels=[0,1])\n",
    "pima.head()\n"
   ]
  },
  {
   "cell_type": "code",
   "execution_count": 50,
   "id": "f963abf6",
   "metadata": {},
   "outputs": [
    {
     "data": {
      "text/html": [
       "<div>\n",
       "<style scoped>\n",
       "    .dataframe tbody tr th:only-of-type {\n",
       "        vertical-align: middle;\n",
       "    }\n",
       "\n",
       "    .dataframe tbody tr th {\n",
       "        vertical-align: top;\n",
       "    }\n",
       "\n",
       "    .dataframe thead th {\n",
       "        text-align: right;\n",
       "    }\n",
       "</style>\n",
       "<table border=\"1\" class=\"dataframe\">\n",
       "  <thead>\n",
       "    <tr style=\"text-align: right;\">\n",
       "      <th></th>\n",
       "      <th>Total_time(s)_0</th>\n",
       "      <th>Total_time(s)_1</th>\n",
       "      <th>Average_bitrate(Mbps)_0</th>\n",
       "      <th>Average_bitrate(Mbps)_1</th>\n",
       "      <th>label_Elephant</th>\n",
       "      <th>label_Mouse</th>\n",
       "    </tr>\n",
       "  </thead>\n",
       "  <tbody>\n",
       "    <tr>\n",
       "      <th>0</th>\n",
       "      <td>1</td>\n",
       "      <td>0</td>\n",
       "      <td>1</td>\n",
       "      <td>0</td>\n",
       "      <td>0</td>\n",
       "      <td>1</td>\n",
       "    </tr>\n",
       "    <tr>\n",
       "      <th>1</th>\n",
       "      <td>1</td>\n",
       "      <td>0</td>\n",
       "      <td>1</td>\n",
       "      <td>0</td>\n",
       "      <td>0</td>\n",
       "      <td>1</td>\n",
       "    </tr>\n",
       "    <tr>\n",
       "      <th>2</th>\n",
       "      <td>1</td>\n",
       "      <td>0</td>\n",
       "      <td>1</td>\n",
       "      <td>0</td>\n",
       "      <td>1</td>\n",
       "      <td>0</td>\n",
       "    </tr>\n",
       "    <tr>\n",
       "      <th>3</th>\n",
       "      <td>1</td>\n",
       "      <td>0</td>\n",
       "      <td>1</td>\n",
       "      <td>0</td>\n",
       "      <td>0</td>\n",
       "      <td>1</td>\n",
       "    </tr>\n",
       "    <tr>\n",
       "      <th>4</th>\n",
       "      <td>1</td>\n",
       "      <td>0</td>\n",
       "      <td>1</td>\n",
       "      <td>0</td>\n",
       "      <td>0</td>\n",
       "      <td>1</td>\n",
       "    </tr>\n",
       "  </tbody>\n",
       "</table>\n",
       "</div>"
      ],
      "text/plain": [
       "   Total_time(s)_0  Total_time(s)_1  Average_bitrate(Mbps)_0  \\\n",
       "0                1                0                        1   \n",
       "1                1                0                        1   \n",
       "2                1                0                        1   \n",
       "3                1                0                        1   \n",
       "4                1                0                        1   \n",
       "\n",
       "   Average_bitrate(Mbps)_1  label_Elephant  label_Mouse  \n",
       "0                        0               0            1  \n",
       "1                        0               0            1  \n",
       "2                        0               1            0  \n",
       "3                        0               0            1  \n",
       "4                        0               0            1  "
      ]
     },
     "execution_count": 50,
     "metadata": {},
     "output_type": "execute_result"
    }
   ],
   "source": [
    "pima1 = pd.get_dummies(pima1)\n",
    "pima1.head()"
   ]
  },
  {
   "cell_type": "code",
   "execution_count": 51,
   "id": "a4f11176",
   "metadata": {},
   "outputs": [
    {
     "data": {
      "text/html": [
       "<div>\n",
       "<style scoped>\n",
       "    .dataframe tbody tr th:only-of-type {\n",
       "        vertical-align: middle;\n",
       "    }\n",
       "\n",
       "    .dataframe tbody tr th {\n",
       "        vertical-align: top;\n",
       "    }\n",
       "\n",
       "    .dataframe thead th {\n",
       "        text-align: right;\n",
       "    }\n",
       "</style>\n",
       "<table border=\"1\" class=\"dataframe\">\n",
       "  <thead>\n",
       "    <tr style=\"text-align: right;\">\n",
       "      <th></th>\n",
       "      <th>Total_time(s)</th>\n",
       "      <th>Average_bitrate(Mbps)</th>\n",
       "    </tr>\n",
       "  </thead>\n",
       "  <tbody>\n",
       "    <tr>\n",
       "      <th>0</th>\n",
       "      <td>-0.027881</td>\n",
       "      <td>-0.762052</td>\n",
       "    </tr>\n",
       "    <tr>\n",
       "      <th>1</th>\n",
       "      <td>-0.016383</td>\n",
       "      <td>-0.829836</td>\n",
       "    </tr>\n",
       "    <tr>\n",
       "      <th>2</th>\n",
       "      <td>-0.004273</td>\n",
       "      <td>-0.852479</td>\n",
       "    </tr>\n",
       "    <tr>\n",
       "      <th>3</th>\n",
       "      <td>-0.016382</td>\n",
       "      <td>-0.819701</td>\n",
       "    </tr>\n",
       "    <tr>\n",
       "      <th>4</th>\n",
       "      <td>-0.010340</td>\n",
       "      <td>-0.829624</td>\n",
       "    </tr>\n",
       "  </tbody>\n",
       "</table>\n",
       "</div>"
      ],
      "text/plain": [
       "   Total_time(s)  Average_bitrate(Mbps)\n",
       "0      -0.027881              -0.762052\n",
       "1      -0.016383              -0.829836\n",
       "2      -0.004273              -0.852479\n",
       "3      -0.016382              -0.819701\n",
       "4      -0.010340              -0.829624"
      ]
     },
     "execution_count": 51,
     "metadata": {},
     "output_type": "execute_result"
    }
   ],
   "source": [
    "pima2 = pima[[\"Total_time(s)\", \"Average_bitrate(Mbps)\"]]\n",
    "cols = pima2.columns.tolist()[0:8]\n",
    "for col in cols:\n",
    "    pima2[col] = (pima2[col] - pima2[col].mean()) / pima2[col].std()\n",
    "pima2.head()"
   ]
  },
  {
   "cell_type": "code",
   "execution_count": 52,
   "id": "993cd4ff",
   "metadata": {},
   "outputs": [
    {
     "name": "stdout",
     "output_type": "stream",
     "text": [
      "(10935, 2) (10935,)\n",
      "(10935, 2) (10935,)\n"
     ]
    }
   ],
   "source": [
    "x1 = pima.drop(columns='label')\n",
    "y1 = pima['label']\n",
    "x_train1, x_test1, y_train1, y_test1 = train_test_split(x1, y1, test_size = 0.25, random_state=0)\n",
    "\n",
    "x2 = pima.drop(columns='label')\n",
    "y2 = pima['label']\n",
    "x_train2, x_test2, y_train2, y_test2 = train_test_split(x2, y2, test_size = 0.25, random_state=0)\n",
    "\n",
    "print(x1.shape, y1.shape)\n",
    "print(x2.shape, y2.shape)"
   ]
  },
  {
   "cell_type": "code",
   "execution_count": 53,
   "id": "5c415288",
   "metadata": {},
   "outputs": [
    {
     "data": {
      "text/plain": [
       "(10935, 2)"
      ]
     },
     "execution_count": 53,
     "metadata": {},
     "output_type": "execute_result"
    }
   ],
   "source": [
    "x1.shape"
   ]
  },
  {
   "cell_type": "code",
   "execution_count": 54,
   "id": "50fd9177",
   "metadata": {},
   "outputs": [
    {
     "data": {
      "text/plain": [
       "356      Elephant\n",
       "3010     Elephant\n",
       "3149        Mouse\n",
       "6402     Elephant\n",
       "6459        Mouse\n",
       "           ...   \n",
       "4859     Elephant\n",
       "3264        Mouse\n",
       "9845        Mouse\n",
       "10799    Elephant\n",
       "2732     Elephant\n",
       "Name: label, Length: 8201, dtype: object"
      ]
     },
     "execution_count": 54,
     "metadata": {},
     "output_type": "execute_result"
    }
   ],
   "source": [
    "x_train1\n",
    "y_train1"
   ]
  },
  {
   "cell_type": "code",
   "execution_count": 57,
   "id": "45248ea0",
   "metadata": {},
   "outputs": [
    {
     "name": "stdout",
     "output_type": "stream",
     "text": [
      "       pima1_acc  pima2_acc  acc_mean\n",
      "Model                                \n",
      "KNN     0.995245   0.995245       1.0\n",
      "DT      0.999634   0.999634       1.0\n",
      "avg     0.997440   0.997440       1.0\n",
      "\n",
      "\n",
      "       pima1_f1  pima2_f1  F1_mean\n",
      "Model                             \n",
      "KNN    0.995243  0.995243      1.0\n",
      "DT     0.999634  0.999634      1.0\n",
      "avg    0.997439  0.997439      1.0\n"
     ]
    }
   ],
   "source": [
    "model_names = [ 'KNN','DT']\n",
    "pima1_acc = []\n",
    "pima2_acc = []\n",
    "pima1_f1 = []\n",
    "pima2_f1 = []\n",
    "# --- Your code here ---\n",
    "\n",
    "# K-Nearest neighbors\n",
    "Kneigh_1 = KNeighborsClassifier()\n",
    "Kneigh_1.fit(x_train1, y_train1)\n",
    "pima1_acc.append(Kneigh_1.score(x_test1,y_test1))\n",
    "pima1_f1.append(f1_score(y_test1, Kneigh_1.predict(x_test1), average='weighted') )\n",
    "\n",
    "Kneigh_2 = KNeighborsClassifier()\n",
    "Kneigh_2.fit(x_train2, y_train2)\n",
    "pima2_acc.append(Kneigh_2.score(x_test2,y_test2))\n",
    "pima2_f1.append(f1_score(y_test2, Kneigh_2.predict(x_test2), average='weighted') )\n",
    "\n",
    "# Decision tree\n",
    "Tree_1 = DecisionTreeClassifier()\n",
    "Tree_1.fit(x_train1, y_train1);\n",
    "pima1_acc.append(Tree_1.score(x_test1,y_test1))\n",
    "pima1_f1.append(f1_score(y_test1, Tree_1.predict(x_test1), average='weighted') )\n",
    "\n",
    "Tree_2 = DecisionTreeClassifier()\n",
    "Tree_2.fit(x_train2, y_train2);\n",
    "pima2_acc.append(Tree_2.score(x_test2,y_test2))\n",
    "pima2_f1.append(f1_score(y_test2, Tree_2.predict(x_test2), average='weighted') )\n",
    "\n",
    "# --- End of your code ---\n",
    "\n",
    "accuracy_record = pd.DataFrame({'Model': model_names, 'pima1_acc': pima1_acc, 'pima2_acc': pima2_acc})\n",
    "accuracy_record['acc_mean'] = accuracy_record.mean(axis=1).round(2)\n",
    "accuracy_record.set_index('Model', inplace=True)\n",
    "accuracy_record.loc['avg'] = accuracy_record.mean()\n",
    "\n",
    "F1_record = pd.DataFrame({'Model': model_names, 'pima1_f1': pima1_f1, 'pima2_f1': pima2_f1})\n",
    "F1_record['F1_mean'] = F1_record.mean(axis=1).round(2)\n",
    "F1_record.set_index('Model', inplace=True)\n",
    "F1_record.loc['avg'] = F1_record.mean()\n",
    "\n",
    "print(accuracy_record)\n",
    "print('\\n')\n",
    "print(F1_record)"
   ]
  },
  {
   "cell_type": "code",
   "execution_count": 58,
   "id": "76038f1d",
   "metadata": {},
   "outputs": [
    {
     "data": {
      "image/png": "[encoded data removed]",
      "text/plain": [
       "<Figure size 648x576 with 1 Axes>"
      ]
     },
     "metadata": {
      "needs_background": "light"
     },
     "output_type": "display_data"
    }
   ],
   "source": [
    "x_train = x_train2\n",
    "y_train = y_train2\n",
    "\n",
    "ada = AdaBoostClassifier(random_state=0)\n",
    "ada.fit(x_train, y_train)\n",
    "relevants = ada.feature_importances_\n",
    "indices = np.argsort(relevants)[::-1]\n",
    "\n",
    "# Plot feature importances\n",
    "plt.figure(1, figsize=(9, 8))\n",
    "plt.title('Feature Importances in AdaBoost')\n",
    "plt.bar(range(x_train.shape[1]), relevants[indices], color='r', align='center')\n",
    "plt.xticks(range(x_train.shape[1]), x_train.columns[indices], rotation=90)\n",
    "plt.xlim([-1, x_train.shape[1]])\n",
    "plt.show()"
   ]
  },
  {
   "cell_type": "code",
   "execution_count": 59,
   "id": "26c5c4d3",
   "metadata": {},
   "outputs": [
    {
     "data": {
      "text/plain": [
       "array([0.5, 0.5])"
      ]
     },
     "execution_count": 59,
     "metadata": {},
     "output_type": "execute_result"
    }
   ],
   "source": [
    "relevants"
   ]
  },
  {
   "cell_type": "code",
   "execution_count": 60,
   "id": "7e499e0c",
   "metadata": {},
   "outputs": [
    {
     "name": "stdout",
     "output_type": "stream",
     "text": [
      "             pima1_acc  pima2_acc  acc_mean\n",
      "Model                                      \n",
      "Gaussian NB   0.885881   0.885881     0.890\n",
      "KNN           0.995245   0.995245     1.000\n",
      "SVM           0.542429   0.542429     0.540\n",
      "LR            0.955377   0.955377     0.960\n",
      "DT            0.999634   0.999634     1.000\n",
      "avg           0.875713   0.875713     0.878\n",
      "\n",
      "\n",
      "             pima1_f1  pima2_f1  F1_mean\n",
      "Model                                   \n",
      "Gaussian NB  0.883183  0.883183    0.880\n",
      "KNN          0.995243  0.995243    1.000\n",
      "SVM          0.381514  0.381514    0.380\n",
      "LR           0.955431  0.955431    0.960\n",
      "DT           0.999634  0.999634    1.000\n",
      "avg          0.843001  0.843001    0.844\n"
     ]
    }
   ],
   "source": [
    "model_names = ['Gaussian NB', 'KNN', 'SVM', 'LR', 'DT']\n",
    "pima1_acc = []\n",
    "pima2_acc = []\n",
    "pima1_f1 = []\n",
    "pima2_f1 = []\n",
    "\n",
    "# --- Your code here ---\n",
    "# Gaussian naive bayes\n",
    "Gaussianed_1 = GaussianNB()\n",
    "Gaussianed_1.fit(x_train1, y_train1);\n",
    "pima1_acc.append(Gaussianed_1.score(x_test1,y_test1))\n",
    "pima1_f1.append(f1_score(y_test1, Gaussianed_1.predict(x_test1), average='weighted') )\n",
    "\n",
    "Gaussianed_2 = GaussianNB()\n",
    "Gaussianed_2.fit(x_train2, y_train2);\n",
    "pima2_acc.append(Gaussianed_2.score(x_test2,y_test2))\n",
    "pima2_f1.append(f1_score(y_test2, Gaussianed_2.predict(x_test2), average='weighted') )\n",
    "\n",
    "# K-Nearest neighbors\n",
    "Kneigh_1 = KNeighborsClassifier()\n",
    "Kneigh_1.fit(x_train1, y_train1)\n",
    "pima1_acc.append(Kneigh_1.score(x_test1,y_test1))\n",
    "pima1_f1.append(f1_score(y_test1, Kneigh_1.predict(x_test1), average='weighted') )\n",
    "\n",
    "Kneigh_2 = KNeighborsClassifier()\n",
    "Kneigh_2.fit(x_train2, y_train2)\n",
    "pima2_acc.append(Kneigh_2.score(x_test2,y_test2))\n",
    "pima2_f1.append(f1_score(y_test2, Kneigh_2.predict(x_test2), average='weighted') )\n",
    "\n",
    "# Support Vector Machine\n",
    "SVM_1 = SVC()\n",
    "SVM_1.fit(x_train1, y_train1)\n",
    "pima1_acc.append(SVM_1.score(x_test1,y_test1))\n",
    "pima1_f1.append(f1_score(y_test1, SVM_1.predict(x_test1), average='weighted') )\n",
    "\n",
    "SVM_2 = SVC()\n",
    "SVM_2.fit(x_train2, y_train2)\n",
    "pima2_acc.append(SVM_2.score(x_test2,y_test2))\n",
    "pima2_f1.append(f1_score(y_test2, SVM_2.predict(x_test2), average='weighted') )\n",
    "\n",
    "# Logistic regression\n",
    "Logic_1 = LogisticRegression()\n",
    "Logic_1.fit(x_train1, y_train1);\n",
    "pima1_acc.append(Logic_1.score(x_test1,y_test1))\n",
    "pima1_f1.append(f1_score(y_test1, Logic_1.predict(x_test1), average='weighted') )\n",
    "\n",
    "Logic_2 = LogisticRegression()\n",
    "Logic_2.fit(x_train2, y_train2);\n",
    "pima2_acc.append(Logic_2.score(x_test2,y_test2))\n",
    "pima2_f1.append(f1_score(y_test2, Logic_2.predict(x_test2), average='weighted') )\n",
    "\n",
    "# Decision tree\n",
    "Tree_1 = DecisionTreeClassifier()\n",
    "Tree_1.fit(x_train1, y_train1);\n",
    "pima1_acc.append(Tree_1.score(x_test1,y_test1))\n",
    "pima1_f1.append(f1_score(y_test1, Tree_1.predict(x_test1), average='weighted') )\n",
    "\n",
    "Tree_2 = DecisionTreeClassifier()\n",
    "Tree_2.fit(x_train2, y_train2);\n",
    "pima2_acc.append(Tree_2.score(x_test2,y_test2))\n",
    "pima2_f1.append(f1_score(y_test2, Tree_2.predict(x_test2), average='weighted') )\n",
    "\n",
    "# --- End of your code ---\n",
    "\n",
    "accuracy_record = pd.DataFrame({'Model': model_names, 'pima1_acc': pima1_acc, 'pima2_acc': pima2_acc})\n",
    "accuracy_record['acc_mean'] = accuracy_record.mean(axis=1).round(2)\n",
    "accuracy_record.set_index('Model', inplace=True)\n",
    "accuracy_record.loc['avg'] = accuracy_record.mean()\n",
    "\n",
    "F1_record = pd.DataFrame({'Model': model_names, 'pima1_f1': pima1_f1, 'pima2_f1': pima2_f1})\n",
    "F1_record['F1_mean'] = F1_record.mean(axis=1).round(2)\n",
    "F1_record.set_index('Model', inplace=True)\n",
    "F1_record.loc['avg'] = F1_record.mean()\n",
    "\n",
    "print(accuracy_record)\n",
    "print('\\n')\n",
    "print(F1_record)"
   ]
  },
  {
   "cell_type": "code",
   "execution_count": null,
   "id": "8f3aa797",
   "metadata": {},
   "outputs": [],
   "source": []
  }
 ],
 "metadata": {
  "kernelspec": {
   "display_name": "Python 3 (ipykernel)",
   "language": "python",
   "name": "python3"
  },
  "language_info": {
   "codemirror_mode": {
    "name": "ipython",
    "version": 3
   },
   "file_extension": ".py",
   "mimetype": "text/x-python",
   "name": "python",
   "nbconvert_exporter": "python",
   "pygments_lexer": "ipython3",
   "version": "3.8.10"
  }
 },
 "nbformat": 4,
 "nbformat_minor": 5
}
